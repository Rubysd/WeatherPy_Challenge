{
 "cells": [
  {
   "cell_type": "markdown",
   "metadata": {},
   "source": [
    "## Deliverable 3. Create a Travel Itinerary Map."
   ]
  },
  {
   "cell_type": "code",
   "execution_count": 1,
   "metadata": {},
   "outputs": [
    {
     "ename": "ImportError",
     "evalue": "cannot import name 'g_key' from 'config' (C:\\Users\\Rubi\\anaconda3\\lib\\site-packages\\config\\__init__.py)",
     "output_type": "error",
     "traceback": [
      "\u001b[1;31m---------------------------------------------------------------------------\u001b[0m",
      "\u001b[1;31mImportError\u001b[0m                               Traceback (most recent call last)",
      "\u001b[1;32m<ipython-input-1-b7af9ddec586>\u001b[0m in \u001b[0;36m<module>\u001b[1;34m\u001b[0m\n\u001b[0;32m      5\u001b[0m \u001b[1;33m\u001b[0m\u001b[0m\n\u001b[0;32m      6\u001b[0m \u001b[1;31m# Import API key\u001b[0m\u001b[1;33m\u001b[0m\u001b[1;33m\u001b[0m\u001b[1;33m\u001b[0m\u001b[0m\n\u001b[1;32m----> 7\u001b[1;33m \u001b[1;32mfrom\u001b[0m \u001b[0mconfig\u001b[0m \u001b[1;32mimport\u001b[0m \u001b[0mg_key\u001b[0m\u001b[1;33m\u001b[0m\u001b[1;33m\u001b[0m\u001b[0m\n\u001b[0m\u001b[0;32m      8\u001b[0m \u001b[1;33m\u001b[0m\u001b[0m\n\u001b[0;32m      9\u001b[0m \u001b[1;31m# Configure gmaps\u001b[0m\u001b[1;33m\u001b[0m\u001b[1;33m\u001b[0m\u001b[1;33m\u001b[0m\u001b[0m\n",
      "\u001b[1;31mImportError\u001b[0m: cannot import name 'g_key' from 'config' (C:\\Users\\Rubi\\anaconda3\\lib\\site-packages\\config\\__init__.py)"
     ]
    }
   ],
   "source": [
    "# Dependencies and Setup\n",
    "import pandas as pd\n",
    "import requests\n",
    "import gmaps\n",
    "\n",
    "# Import API key\n",
    "from config import g_key\n",
    "\n",
    "# Configure gmaps\n",
    "gmaps.configure(api_key=g_key)"
   ]
  },
  {
   "cell_type": "code",
   "execution_count": 2,
   "metadata": {},
   "outputs": [],
   "source": [
    "# 1. Read the WeatherPy_vacation.csv into a DataFrame.\n",
    "# vacation_df = pd.read_csv(\"Vacation_Search/WeatherPy_vacation.csv\")\n",
    "# vacation_df.head()"
   ]
  },
  {
   "cell_type": "code",
   "execution_count": 14,
   "metadata": {},
   "outputs": [
    {
     "data": {
      "text/html": [
       "<div>\n",
       "<style scoped>\n",
       "    .dataframe tbody tr th:only-of-type {\n",
       "        vertical-align: middle;\n",
       "    }\n",
       "\n",
       "    .dataframe tbody tr th {\n",
       "        vertical-align: top;\n",
       "    }\n",
       "\n",
       "    .dataframe thead th {\n",
       "        text-align: right;\n",
       "    }\n",
       "</style>\n",
       "<table border=\"1\" class=\"dataframe\">\n",
       "  <thead>\n",
       "    <tr style=\"text-align: right;\">\n",
       "      <th></th>\n",
       "      <th>City_ID</th>\n",
       "      <th>City</th>\n",
       "      <th>Country</th>\n",
       "      <th>Max Temp</th>\n",
       "      <th>Current description</th>\n",
       "      <th>Lat</th>\n",
       "      <th>Lng</th>\n",
       "      <th>Hotel Name</th>\n",
       "    </tr>\n",
       "  </thead>\n",
       "  <tbody>\n",
       "    <tr>\n",
       "      <th>0</th>\n",
       "      <td>2</td>\n",
       "      <td>Cheney</td>\n",
       "      <td>US</td>\n",
       "      <td>104.76</td>\n",
       "      <td>broken clouds</td>\n",
       "      <td>47.4874</td>\n",
       "      <td>-117.5758</td>\n",
       "      <td>Holiday Inn Express &amp; Suites Cheney, an IHG Hotel</td>\n",
       "    </tr>\n",
       "    <tr>\n",
       "      <th>1</th>\n",
       "      <td>3</td>\n",
       "      <td>Mitsamiouli</td>\n",
       "      <td>KM</td>\n",
       "      <td>76.32</td>\n",
       "      <td>clear sky</td>\n",
       "      <td>-11.3847</td>\n",
       "      <td>43.2844</td>\n",
       "      <td>Foyer ADM</td>\n",
       "    </tr>\n",
       "    <tr>\n",
       "      <th>2</th>\n",
       "      <td>4</td>\n",
       "      <td>Korla</td>\n",
       "      <td>CN</td>\n",
       "      <td>84.04</td>\n",
       "      <td>overcast clouds</td>\n",
       "      <td>41.7597</td>\n",
       "      <td>86.1469</td>\n",
       "      <td>Gulisitan Hotel</td>\n",
       "    </tr>\n",
       "    <tr>\n",
       "      <th>3</th>\n",
       "      <td>5</td>\n",
       "      <td>Krasnoselkup</td>\n",
       "      <td>RU</td>\n",
       "      <td>53.47</td>\n",
       "      <td>broken clouds</td>\n",
       "      <td>65.7000</td>\n",
       "      <td>82.4667</td>\n",
       "      <td>Krasnosel'kupnefteprodukt</td>\n",
       "    </tr>\n",
       "    <tr>\n",
       "      <th>4</th>\n",
       "      <td>9</td>\n",
       "      <td>Ribeira Grande</td>\n",
       "      <td>PT</td>\n",
       "      <td>71.38</td>\n",
       "      <td>few clouds</td>\n",
       "      <td>38.5167</td>\n",
       "      <td>-28.7000</td>\n",
       "      <td>Quinta da Meia Eira</td>\n",
       "    </tr>\n",
       "    <tr>\n",
       "      <th>5</th>\n",
       "      <td>10</td>\n",
       "      <td>Miri</td>\n",
       "      <td>MY</td>\n",
       "      <td>74.44</td>\n",
       "      <td>broken clouds</td>\n",
       "      <td>4.4148</td>\n",
       "      <td>114.0089</td>\n",
       "      <td>Mega Hotel, Miri</td>\n",
       "    </tr>\n",
       "    <tr>\n",
       "      <th>6</th>\n",
       "      <td>11</td>\n",
       "      <td>Flagstaff</td>\n",
       "      <td>US</td>\n",
       "      <td>76.32</td>\n",
       "      <td>scattered clouds</td>\n",
       "      <td>35.1981</td>\n",
       "      <td>-111.6513</td>\n",
       "      <td>Drury Inn &amp; Suites Flagstaff</td>\n",
       "    </tr>\n",
       "    <tr>\n",
       "      <th>7</th>\n",
       "      <td>12</td>\n",
       "      <td>Broome</td>\n",
       "      <td>US</td>\n",
       "      <td>66.69</td>\n",
       "      <td>clear sky</td>\n",
       "      <td>42.2506</td>\n",
       "      <td>-75.8330</td>\n",
       "      <td>Chenango Valley State Park</td>\n",
       "    </tr>\n",
       "    <tr>\n",
       "      <th>8</th>\n",
       "      <td>13</td>\n",
       "      <td>Victoria</td>\n",
       "      <td>HK</td>\n",
       "      <td>84.38</td>\n",
       "      <td>light rain</td>\n",
       "      <td>22.2855</td>\n",
       "      <td>114.1577</td>\n",
       "      <td>Mini Hotel Central</td>\n",
       "    </tr>\n",
       "    <tr>\n",
       "      <th>9</th>\n",
       "      <td>14</td>\n",
       "      <td>Bathsheba</td>\n",
       "      <td>BB</td>\n",
       "      <td>83.01</td>\n",
       "      <td>scattered clouds</td>\n",
       "      <td>13.2167</td>\n",
       "      <td>-59.5167</td>\n",
       "      <td>Atlantis Hotel</td>\n",
       "    </tr>\n",
       "  </tbody>\n",
       "</table>\n",
       "</div>"
      ],
      "text/plain": [
       "   City_ID            City Country  Max Temp Current description      Lat  \\\n",
       "0        2          Cheney      US    104.76       broken clouds  47.4874   \n",
       "1        3     Mitsamiouli      KM     76.32           clear sky -11.3847   \n",
       "2        4           Korla      CN     84.04     overcast clouds  41.7597   \n",
       "3        5    Krasnoselkup      RU     53.47       broken clouds  65.7000   \n",
       "4        9  Ribeira Grande      PT     71.38          few clouds  38.5167   \n",
       "5       10            Miri      MY     74.44       broken clouds   4.4148   \n",
       "6       11       Flagstaff      US     76.32    scattered clouds  35.1981   \n",
       "7       12          Broome      US     66.69           clear sky  42.2506   \n",
       "8       13        Victoria      HK     84.38          light rain  22.2855   \n",
       "9       14       Bathsheba      BB     83.01    scattered clouds  13.2167   \n",
       "\n",
       "        Lng                                         Hotel Name  \n",
       "0 -117.5758  Holiday Inn Express & Suites Cheney, an IHG Hotel  \n",
       "1   43.2844                                          Foyer ADM  \n",
       "2   86.1469                                    Gulisitan Hotel  \n",
       "3   82.4667                          Krasnosel'kupnefteprodukt  \n",
       "4  -28.7000                                Quinta da Meia Eira  \n",
       "5  114.0089                                   Mega Hotel, Miri  \n",
       "6 -111.6513                       Drury Inn & Suites Flagstaff  \n",
       "7  -75.8330                         Chenango Valley State Park  \n",
       "8  114.1577                                 Mini Hotel Central  \n",
       "9  -59.5167                                     Atlantis Hotel  "
      ]
     },
     "execution_count": 14,
     "metadata": {},
     "output_type": "execute_result"
    }
   ],
   "source": [
    "# 1. Read the WeatherPy_vacation.csv into a DataFrame.\n",
    "# vacation_df = pd.read_csv(\"Vacation_Search/WeatherPy_vacation.csv\")\n",
    "# vacation_df.head()\n",
    "\n",
    "# Add a variable for the files to load\n",
    "vacation_file_load = os.path.join(\"WeatherPy_vacation.csv\")\n",
    "\n",
    "# Read the vacation Data\n",
    "vacation_df = pd.read_csv(vacation_file_load)\n",
    "vacation_df.head(10)"
   ]
  },
  {
   "cell_type": "code",
   "execution_count": 15,
   "metadata": {},
   "outputs": [],
   "source": [
    "# 2. Using the template add the city name, the country code, the weather description and maximum temperature for the city.\n",
    "info_box_template = \"\"\"\n",
    "<dl>\n",
    "<dt>Hotel Name</dt><dd>{Hotel Name}</dd>\n",
    "<dt>City</dt><dd>{City}</dd>\n",
    "<dt>Country</dt><dd>{Country}</dd>\n",
    "<dt>Current weather</dt><dd>{Current description} and {Max Temp} °F</dd>\n",
    "</dl>\n",
    "\"\"\"\n",
    "\n",
    "# 3a. Get the data from each row and add it to the formatting template and store the data in a list.\n",
    "hotel_info = [info_box_template.format(**row) for index, row in vacation_df.iterrows()]\n",
    "\n",
    "# 3b. Get the latitude and longitude from each row and store in a new DataFrame.\n",
    "locations = vacation_df[[\"Lat\", \"Lng\"]]"
   ]
  },
  {
   "cell_type": "code",
   "execution_count": 21,
   "metadata": {},
   "outputs": [
    {
     "data": {
      "application/vnd.jupyter.widget-view+json": {
       "model_id": "0cf8f2d0190745928b0b646d8aa6d74d",
       "version_major": 2,
       "version_minor": 0
      },
      "text/plain": [
       "Figure(layout=FigureLayout(height='420px'))"
      ]
     },
     "metadata": {},
     "output_type": "display_data"
    }
   ],
   "source": [
    "# 4a. Add a marker layer for each city to the map.\n",
    "max_temp = vacation_df[\"Max Temp\"]\n",
    "fig = gmaps.figure(center=(30.0, 31.0), zoom_level=1.5)\n",
    "heat_layer = gmaps.heatmap_layer(locations, weights=max_temp,dissipating=False,\n",
    "             max_intensity=300, point_radius=4)\n",
    "marker_layer = gmaps.marker_layer(locations, info_box_content=hotel_info)\n",
    "fig.add_layer(heat_layer)\n",
    "fig.add_layer(marker_layer)\n",
    "\n",
    "# 4b. Display the figure\n",
    "fig"
   ]
  },
  {
   "cell_type": "code",
   "execution_count": 22,
   "metadata": {},
   "outputs": [],
   "source": [
    "# From the map above pick 4 cities and create a vacation itinerary route to travel between the four cities. \n",
    "# 5. Create DataFrames for each city by filtering the 'vacation_df' using the loc method. \n",
    "# Hint: The starting and ending city should be the same city.\n",
    "vacation_start = vacation_df.loc[vacation_df['City'] == \"Grafton\"]\n",
    "vacation_end = vacation_df.loc[vacation_df['City'] == \"Grafton\"]\n",
    "vacation_stop1 = vacation_df.loc[vacation_df['City'] == \"Broome\"]\n",
    "vacation_stop2 = vacation_df.loc[vacation_df['City'] == \"Jamestown\"]\n",
    "vacation_stop3 = vacation_df.loc[vacation_df['City'] == \"Bethel\"]"
   ]
  },
  {
   "cell_type": "code",
   "execution_count": 28,
   "metadata": {},
   "outputs": [
    {
     "data": {
      "text/html": [
       "<div>\n",
       "<style scoped>\n",
       "    .dataframe tbody tr th:only-of-type {\n",
       "        vertical-align: middle;\n",
       "    }\n",
       "\n",
       "    .dataframe tbody tr th {\n",
       "        vertical-align: top;\n",
       "    }\n",
       "\n",
       "    .dataframe thead th {\n",
       "        text-align: right;\n",
       "    }\n",
       "</style>\n",
       "<table border=\"1\" class=\"dataframe\">\n",
       "  <thead>\n",
       "    <tr style=\"text-align: right;\">\n",
       "      <th></th>\n",
       "      <th>City_ID</th>\n",
       "      <th>City</th>\n",
       "      <th>Country</th>\n",
       "      <th>Max Temp</th>\n",
       "      <th>Current description</th>\n",
       "      <th>Lat</th>\n",
       "      <th>Lng</th>\n",
       "      <th>Hotel Name</th>\n",
       "    </tr>\n",
       "  </thead>\n",
       "  <tbody>\n",
       "    <tr>\n",
       "      <th>450</th>\n",
       "      <td>546</td>\n",
       "      <td>Grafton</td>\n",
       "      <td>US</td>\n",
       "      <td>74.71</td>\n",
       "      <td>clear sky</td>\n",
       "      <td>42.207</td>\n",
       "      <td>-71.6856</td>\n",
       "      <td>The Grafton Inn</td>\n",
       "    </tr>\n",
       "  </tbody>\n",
       "</table>\n",
       "</div>"
      ],
      "text/plain": [
       "     City_ID     City Country  Max Temp Current description     Lat      Lng  \\\n",
       "450      546  Grafton      US     74.71           clear sky  42.207 -71.6856   \n",
       "\n",
       "          Hotel Name  \n",
       "450  The Grafton Inn  "
      ]
     },
     "execution_count": 28,
     "metadata": {},
     "output_type": "execute_result"
    }
   ],
   "source": [
    "vacation_start"
   ]
  },
  {
   "cell_type": "code",
   "execution_count": 29,
   "metadata": {
    "scrolled": true
   },
   "outputs": [
    {
     "data": {
      "text/html": [
       "<div>\n",
       "<style scoped>\n",
       "    .dataframe tbody tr th:only-of-type {\n",
       "        vertical-align: middle;\n",
       "    }\n",
       "\n",
       "    .dataframe tbody tr th {\n",
       "        vertical-align: top;\n",
       "    }\n",
       "\n",
       "    .dataframe thead th {\n",
       "        text-align: right;\n",
       "    }\n",
       "</style>\n",
       "<table border=\"1\" class=\"dataframe\">\n",
       "  <thead>\n",
       "    <tr style=\"text-align: right;\">\n",
       "      <th></th>\n",
       "      <th>City_ID</th>\n",
       "      <th>City</th>\n",
       "      <th>Country</th>\n",
       "      <th>Max Temp</th>\n",
       "      <th>Current description</th>\n",
       "      <th>Lat</th>\n",
       "      <th>Lng</th>\n",
       "      <th>Hotel Name</th>\n",
       "    </tr>\n",
       "  </thead>\n",
       "  <tbody>\n",
       "    <tr>\n",
       "      <th>450</th>\n",
       "      <td>546</td>\n",
       "      <td>Grafton</td>\n",
       "      <td>US</td>\n",
       "      <td>74.71</td>\n",
       "      <td>clear sky</td>\n",
       "      <td>42.207</td>\n",
       "      <td>-71.6856</td>\n",
       "      <td>The Grafton Inn</td>\n",
       "    </tr>\n",
       "  </tbody>\n",
       "</table>\n",
       "</div>"
      ],
      "text/plain": [
       "     City_ID     City Country  Max Temp Current description     Lat      Lng  \\\n",
       "450      546  Grafton      US     74.71           clear sky  42.207 -71.6856   \n",
       "\n",
       "          Hotel Name  \n",
       "450  The Grafton Inn  "
      ]
     },
     "execution_count": 29,
     "metadata": {},
     "output_type": "execute_result"
    }
   ],
   "source": [
    "vacation_end\n"
   ]
  },
  {
   "cell_type": "code",
   "execution_count": 25,
   "metadata": {},
   "outputs": [
    {
     "data": {
      "text/html": [
       "<div>\n",
       "<style scoped>\n",
       "    .dataframe tbody tr th:only-of-type {\n",
       "        vertical-align: middle;\n",
       "    }\n",
       "\n",
       "    .dataframe tbody tr th {\n",
       "        vertical-align: top;\n",
       "    }\n",
       "\n",
       "    .dataframe thead th {\n",
       "        text-align: right;\n",
       "    }\n",
       "</style>\n",
       "<table border=\"1\" class=\"dataframe\">\n",
       "  <thead>\n",
       "    <tr style=\"text-align: right;\">\n",
       "      <th></th>\n",
       "      <th>City_ID</th>\n",
       "      <th>City</th>\n",
       "      <th>Country</th>\n",
       "      <th>Max Temp</th>\n",
       "      <th>Current description</th>\n",
       "      <th>Lat</th>\n",
       "      <th>Lng</th>\n",
       "      <th>Hotel Name</th>\n",
       "    </tr>\n",
       "  </thead>\n",
       "  <tbody>\n",
       "    <tr>\n",
       "      <th>7</th>\n",
       "      <td>12</td>\n",
       "      <td>Broome</td>\n",
       "      <td>US</td>\n",
       "      <td>66.69</td>\n",
       "      <td>clear sky</td>\n",
       "      <td>42.2506</td>\n",
       "      <td>-75.833</td>\n",
       "      <td>Chenango Valley State Park</td>\n",
       "    </tr>\n",
       "  </tbody>\n",
       "</table>\n",
       "</div>"
      ],
      "text/plain": [
       "   City_ID    City Country  Max Temp Current description      Lat     Lng  \\\n",
       "7       12  Broome      US     66.69           clear sky  42.2506 -75.833   \n",
       "\n",
       "                   Hotel Name  \n",
       "7  Chenango Valley State Park  "
      ]
     },
     "execution_count": 25,
     "metadata": {},
     "output_type": "execute_result"
    }
   ],
   "source": [
    "vacation_stop1"
   ]
  },
  {
   "cell_type": "code",
   "execution_count": 26,
   "metadata": {},
   "outputs": [
    {
     "data": {
      "text/html": [
       "<div>\n",
       "<style scoped>\n",
       "    .dataframe tbody tr th:only-of-type {\n",
       "        vertical-align: middle;\n",
       "    }\n",
       "\n",
       "    .dataframe tbody tr th {\n",
       "        vertical-align: top;\n",
       "    }\n",
       "\n",
       "    .dataframe thead th {\n",
       "        text-align: right;\n",
       "    }\n",
       "</style>\n",
       "<table border=\"1\" class=\"dataframe\">\n",
       "  <thead>\n",
       "    <tr style=\"text-align: right;\">\n",
       "      <th></th>\n",
       "      <th>City_ID</th>\n",
       "      <th>City</th>\n",
       "      <th>Country</th>\n",
       "      <th>Max Temp</th>\n",
       "      <th>Current description</th>\n",
       "      <th>Lat</th>\n",
       "      <th>Lng</th>\n",
       "      <th>Hotel Name</th>\n",
       "    </tr>\n",
       "  </thead>\n",
       "  <tbody>\n",
       "    <tr>\n",
       "      <th>42</th>\n",
       "      <td>58</td>\n",
       "      <td>Jamestown</td>\n",
       "      <td>US</td>\n",
       "      <td>68.72</td>\n",
       "      <td>scattered clouds</td>\n",
       "      <td>42.097</td>\n",
       "      <td>-79.2353</td>\n",
       "      <td>Hampton Inn &amp; Suites Jamestown</td>\n",
       "    </tr>\n",
       "  </tbody>\n",
       "</table>\n",
       "</div>"
      ],
      "text/plain": [
       "    City_ID       City Country  Max Temp Current description     Lat      Lng  \\\n",
       "42       58  Jamestown      US     68.72    scattered clouds  42.097 -79.2353   \n",
       "\n",
       "                        Hotel Name  \n",
       "42  Hampton Inn & Suites Jamestown  "
      ]
     },
     "execution_count": 26,
     "metadata": {},
     "output_type": "execute_result"
    }
   ],
   "source": [
    "vacation_stop2"
   ]
  },
  {
   "cell_type": "code",
   "execution_count": 27,
   "metadata": {},
   "outputs": [
    {
     "data": {
      "text/html": [
       "<div>\n",
       "<style scoped>\n",
       "    .dataframe tbody tr th:only-of-type {\n",
       "        vertical-align: middle;\n",
       "    }\n",
       "\n",
       "    .dataframe tbody tr th {\n",
       "        vertical-align: top;\n",
       "    }\n",
       "\n",
       "    .dataframe thead th {\n",
       "        text-align: right;\n",
       "    }\n",
       "</style>\n",
       "<table border=\"1\" class=\"dataframe\">\n",
       "  <thead>\n",
       "    <tr style=\"text-align: right;\">\n",
       "      <th></th>\n",
       "      <th>City_ID</th>\n",
       "      <th>City</th>\n",
       "      <th>Country</th>\n",
       "      <th>Max Temp</th>\n",
       "      <th>Current description</th>\n",
       "      <th>Lat</th>\n",
       "      <th>Lng</th>\n",
       "      <th>Hotel Name</th>\n",
       "    </tr>\n",
       "  </thead>\n",
       "  <tbody>\n",
       "    <tr>\n",
       "      <th>30</th>\n",
       "      <td>41</td>\n",
       "      <td>Bethel</td>\n",
       "      <td>US</td>\n",
       "      <td>77.58</td>\n",
       "      <td>few clouds</td>\n",
       "      <td>41.3712</td>\n",
       "      <td>-73.414</td>\n",
       "      <td>Courtyard by Marriott Danbury</td>\n",
       "    </tr>\n",
       "  </tbody>\n",
       "</table>\n",
       "</div>"
      ],
      "text/plain": [
       "    City_ID    City Country  Max Temp Current description      Lat     Lng  \\\n",
       "30       41  Bethel      US     77.58          few clouds  41.3712 -73.414   \n",
       "\n",
       "                       Hotel Name  \n",
       "30  Courtyard by Marriott Danbury  "
      ]
     },
     "execution_count": 27,
     "metadata": {},
     "output_type": "execute_result"
    }
   ],
   "source": [
    "vacation_stop3"
   ]
  },
  {
   "cell_type": "code",
   "execution_count": 30,
   "metadata": {},
   "outputs": [
    {
     "name": "stdout",
     "output_type": "stream",
     "text": [
      "Start: (42.207, -71.6856), End: (42.207, -71.6856)\n",
      "Stop 1: (42.2506, -75.833), Stop 2: (42.097, -79.2353), Stop 3: (41.3712, -73.414)\n"
     ]
    }
   ],
   "source": [
    "# 6. Get the latitude-longitude pairs as tuples from each city DataFrame using the to_numpy function and list indexing.\n",
    "start = vacation_start[\"Lat\"].to_numpy()[0], vacation_start[\"Lng\"].to_numpy()[0]\n",
    "end = vacation_end[\"Lat\"].to_numpy()[0], vacation_end[\"Lng\"].to_numpy()[0]\n",
    "print(f'Start: {start}, End: {end}')\n",
    "\n",
    "stop1 = vacation_stop1[\"Lat\"].to_numpy()[0], vacation_stop1[\"Lng\"].to_numpy()[0]\n",
    "stop2 = vacation_stop2[\"Lat\"].to_numpy()[0], vacation_stop2[\"Lng\"].to_numpy()[0]\n",
    "stop3 = vacation_stop3[\"Lat\"].to_numpy()[0], vacation_stop3[\"Lng\"].to_numpy()[0]\n",
    "print(f'Stop 1: {stop1}, Stop 2: {stop2}, Stop 3: {stop3}')\n",
    "waypoints = [stop1,stop2,stop3]"
   ]
  },
  {
   "cell_type": "code",
   "execution_count": 32,
   "metadata": {},
   "outputs": [
    {
     "data": {
      "application/vnd.jupyter.widget-view+json": {
       "model_id": "26e247c095a04bc68bb7192b34b4bb0c",
       "version_major": 2,
       "version_minor": 0
      },
      "text/plain": [
       "Figure(layout=FigureLayout(height='420px'))"
      ]
     },
     "metadata": {},
     "output_type": "display_data"
    }
   ],
   "source": [
    "# 7. Create a direction layer map using the start and end latitude-longitude pairs,\n",
    "# and stop1, stop2, and stop3 as the waypoints. The travel_mode should be \"DRIVING\", \"BICYCLING\", or \"WALKING\".\n",
    "# Create Map with route\n",
    "fig = gmaps.figure()\n",
    "city_itinerary = gmaps.directions_layer(\n",
    "        start, end, waypoints=waypoints,\n",
    "        travel_mode='DRIVING')\n",
    "\n",
    "fig.add_layer(city_itinerary)\n",
    "fig"
   ]
  },
  {
   "cell_type": "code",
   "execution_count": 33,
   "metadata": {},
   "outputs": [
    {
     "data": {
      "text/html": [
       "<div>\n",
       "<style scoped>\n",
       "    .dataframe tbody tr th:only-of-type {\n",
       "        vertical-align: middle;\n",
       "    }\n",
       "\n",
       "    .dataframe tbody tr th {\n",
       "        vertical-align: top;\n",
       "    }\n",
       "\n",
       "    .dataframe thead th {\n",
       "        text-align: right;\n",
       "    }\n",
       "</style>\n",
       "<table border=\"1\" class=\"dataframe\">\n",
       "  <thead>\n",
       "    <tr style=\"text-align: right;\">\n",
       "      <th></th>\n",
       "      <th>City_ID</th>\n",
       "      <th>City</th>\n",
       "      <th>Country</th>\n",
       "      <th>Max Temp</th>\n",
       "      <th>Current description</th>\n",
       "      <th>Lat</th>\n",
       "      <th>Lng</th>\n",
       "      <th>Hotel Name</th>\n",
       "    </tr>\n",
       "  </thead>\n",
       "  <tbody>\n",
       "    <tr>\n",
       "      <th>0</th>\n",
       "      <td>546</td>\n",
       "      <td>Grafton</td>\n",
       "      <td>US</td>\n",
       "      <td>74.71</td>\n",
       "      <td>clear sky</td>\n",
       "      <td>42.2070</td>\n",
       "      <td>-71.6856</td>\n",
       "      <td>The Grafton Inn</td>\n",
       "    </tr>\n",
       "    <tr>\n",
       "      <th>1</th>\n",
       "      <td>12</td>\n",
       "      <td>Broome</td>\n",
       "      <td>US</td>\n",
       "      <td>66.69</td>\n",
       "      <td>clear sky</td>\n",
       "      <td>42.2506</td>\n",
       "      <td>-75.8330</td>\n",
       "      <td>Chenango Valley State Park</td>\n",
       "    </tr>\n",
       "    <tr>\n",
       "      <th>2</th>\n",
       "      <td>58</td>\n",
       "      <td>Jamestown</td>\n",
       "      <td>US</td>\n",
       "      <td>68.72</td>\n",
       "      <td>scattered clouds</td>\n",
       "      <td>42.0970</td>\n",
       "      <td>-79.2353</td>\n",
       "      <td>Hampton Inn &amp; Suites Jamestown</td>\n",
       "    </tr>\n",
       "    <tr>\n",
       "      <th>3</th>\n",
       "      <td>41</td>\n",
       "      <td>Bethel</td>\n",
       "      <td>US</td>\n",
       "      <td>77.58</td>\n",
       "      <td>few clouds</td>\n",
       "      <td>41.3712</td>\n",
       "      <td>-73.4140</td>\n",
       "      <td>Courtyard by Marriott Danbury</td>\n",
       "    </tr>\n",
       "  </tbody>\n",
       "</table>\n",
       "</div>"
      ],
      "text/plain": [
       "   City_ID       City Country  Max Temp Current description      Lat      Lng  \\\n",
       "0      546    Grafton      US     74.71           clear sky  42.2070 -71.6856   \n",
       "1       12     Broome      US     66.69           clear sky  42.2506 -75.8330   \n",
       "2       58  Jamestown      US     68.72    scattered clouds  42.0970 -79.2353   \n",
       "3       41     Bethel      US     77.58          few clouds  41.3712 -73.4140   \n",
       "\n",
       "                       Hotel Name  \n",
       "0                 The Grafton Inn  \n",
       "1      Chenango Valley State Park  \n",
       "2  Hampton Inn & Suites Jamestown  \n",
       "3   Courtyard by Marriott Danbury  "
      ]
     },
     "execution_count": 33,
     "metadata": {},
     "output_type": "execute_result"
    }
   ],
   "source": [
    "# 8. To create a marker layer map between the four cities.\n",
    "#  Combine the four city DataFrames into one DataFrame using the concat() function.\n",
    "itinerary_df = pd.concat([vacation_start,vacation_stop1,vacation_stop2,vacation_stop3],ignore_index=True)\n",
    "itinerary_df"
   ]
  },
  {
   "cell_type": "code",
   "execution_count": 34,
   "metadata": {},
   "outputs": [],
   "source": [
    "# 9 Using the template add city name, the country code, the weather description and maximum temperature for the city. \n",
    "info_box_template = \"\"\"\n",
    "<dl>\n",
    "<dt>Hotel Name</dt><dd>{Hotel Name}</dd>\n",
    "<dt>City</dt><dd>{City}</dd>\n",
    "<dt>Country</dt><dd>{Country}</dd>\n",
    "<dt>Current weather</dt><dd>{Current description} and {Max Temp} °F</dd>\n",
    "</dl>\n",
    "\"\"\"\n",
    "# 10a Get the data from each row and add it to the formatting template and store the data in a list.\n",
    "\n",
    "hotel_info = [info_box_template.format(**row) for index, row in itinerary_df.iterrows()]\n",
    "# 10b. Get the latitude and longitude from each row and store in a new DataFrame.\n",
    "locations = itinerary_df[[\"Lat\", \"Lng\"]]"
   ]
  },
  {
   "cell_type": "code",
   "execution_count": 35,
   "metadata": {},
   "outputs": [
    {
     "ename": "NameError",
     "evalue": "name 'starts' is not defined",
     "output_type": "error",
     "traceback": [
      "\u001b[1;31m---------------------------------------------------------------------------\u001b[0m",
      "\u001b[1;31mNameError\u001b[0m                                 Traceback (most recent call last)",
      "\u001b[1;32m<ipython-input-35-d096f04bd2e3>\u001b[0m in \u001b[0;36m<module>\u001b[1;34m\u001b[0m\n\u001b[0;32m      1\u001b[0m \u001b[1;31m# 11a. Add a marker layer for each city to the map.\u001b[0m\u001b[1;33m\u001b[0m\u001b[1;33m\u001b[0m\u001b[1;33m\u001b[0m\u001b[0m\n\u001b[1;32m----> 2\u001b[1;33m \u001b[0mfig\u001b[0m \u001b[1;33m=\u001b[0m \u001b[0mgmaps\u001b[0m\u001b[1;33m.\u001b[0m\u001b[0mfigure\u001b[0m\u001b[1;33m(\u001b[0m\u001b[0mcenter\u001b[0m\u001b[1;33m=\u001b[0m\u001b[1;33m(\u001b[0m\u001b[0mstarts\u001b[0m\u001b[1;33m)\u001b[0m\u001b[1;33m,\u001b[0m \u001b[0mzoom_level\u001b[0m\u001b[1;33m=\u001b[0m\u001b[1;36m6\u001b[0m\u001b[1;33m)\u001b[0m\u001b[1;33m\u001b[0m\u001b[1;33m\u001b[0m\u001b[0m\n\u001b[0m\u001b[0;32m      3\u001b[0m \u001b[0mmarker_layer\u001b[0m \u001b[1;33m=\u001b[0m \u001b[0mgmaps\u001b[0m\u001b[1;33m.\u001b[0m\u001b[0mmarker_layer\u001b[0m\u001b[1;33m(\u001b[0m\u001b[0mlocations\u001b[0m\u001b[1;33m,\u001b[0m\u001b[0minfo_box_content\u001b[0m\u001b[1;33m=\u001b[0m\u001b[0mhotel_info\u001b[0m\u001b[1;33m)\u001b[0m\u001b[1;33m\u001b[0m\u001b[1;33m\u001b[0m\u001b[0m\n\u001b[0;32m      4\u001b[0m city_itinerary = gmaps.directions_layer(\n\u001b[0;32m      5\u001b[0m         \u001b[0mstart\u001b[0m\u001b[1;33m,\u001b[0m \u001b[0mend\u001b[0m\u001b[1;33m,\u001b[0m \u001b[0mwaypoints\u001b[0m\u001b[1;33m=\u001b[0m\u001b[0mwaypoints\u001b[0m\u001b[1;33m,\u001b[0m\u001b[1;33m\u001b[0m\u001b[1;33m\u001b[0m\u001b[0m\n",
      "\u001b[1;31mNameError\u001b[0m: name 'starts' is not defined"
     ]
    }
   ],
   "source": [
    "# 11a. Add a marker layer for each city to the map.\n",
    "fig = gmaps.figure(center=(starts), zoom_level=6)\n",
    "marker_layer = gmaps.marker_layer(locations,info_box_content=hotel_info)\n",
    "city_itinerary = gmaps.directions_layer(\n",
    "        start, end, waypoints=waypoints,\n",
    "        travel_mode='DRIVING', show_markers=False)\n",
    "fig.add_layer(marker_layer)\n",
    "fig.add_layer(city_itinerary)\n",
    "\n",
    "# 11b. Display the figure\n",
    "fig"
   ]
  },
  {
   "cell_type": "code",
   "execution_count": null,
   "metadata": {},
   "outputs": [],
   "source": []
  }
 ],
 "metadata": {
  "kernelspec": {
   "display_name": "Python 3",
   "language": "python",
   "name": "python3"
  },
  "language_info": {
   "codemirror_mode": {
    "name": "ipython",
    "version": 3
   },
   "file_extension": ".py",
   "mimetype": "text/x-python",
   "name": "python",
   "nbconvert_exporter": "python",
   "pygments_lexer": "ipython3",
   "version": "3.8.5"
  },
  "latex_envs": {
   "LaTeX_envs_menu_present": true,
   "autoclose": false,
   "autocomplete": true,
   "bibliofile": "biblio.bib",
   "cite_by": "apalike",
   "current_citInitial": 1,
   "eqLabelWithNumbers": true,
   "eqNumInitial": 1,
   "hotkeys": {
    "equation": "Ctrl-E",
    "itemize": "Ctrl-I"
   },
   "labels_anchors": false,
   "latex_user_defs": false,
   "report_style_numbering": false,
   "user_envs_cfg": false
  }
 },
 "nbformat": 4,
 "nbformat_minor": 2
}
